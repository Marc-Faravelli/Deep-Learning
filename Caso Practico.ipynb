{
 "cells": [
  {
   "cell_type": "markdown",
   "metadata": {},
   "source": [
    "<img src=\"images/iebs-logo.jpg\" alt=\"Logo IEBS\" align=\"center\">\n",
    "<br><br>\n",
    "<h1><font color=\"#113D68\" size=5>Análisis predictivo con Deep Learning</font></h1>\n",
    "\n",
    "\n",
    "\n",
    "<h1><font color=\"#113D68\" size=6>Caso Práctico: Análisis problema de clasificación con Deep Learning</font></h1>\n",
    "\n",
    "\n",
    "<br><br>\n",
    "<div style=\"text-align: right\">\n",
    "<font size=3>Daniel González</font><br>\n",
    "<font size=3>Semana 4: Caso práctico</font><br>\n",
    "<font size=3>IEBS</font>\n",
    "</div>"
   ]
  },
  {
   "cell_type": "markdown",
   "metadata": {},
   "source": [
    "---\n",
    "\n",
    "<a id=\"indice\"></a>\n",
    "<h2><font color=\"#004D7F\" size=5>Índice</font></h2>\n",
    "\n",
    "* [Caso práctico](#section1)\n",
    "    - [Parte obligatoria](#section1.1)\n",
    "    - [Parte opcional](#section1.2)\n",
    "    - [Objetivos](#section1.3)\n",
    "    - [Criterios de entrega](#section1.4)\n",
    "    - [Temporalización](#section1.5)\n",
    "* [CIFAR10 Dataset](#section2)\n",
    "* [Experimentos con redes neuronales densas](#section3)\n",
    "    - [Experimento 1](section3.1)\n",
    "    - [Experimento 2](section3.2)\n",
    "* [Experimentos con CNNs](#section4)\n",
    "    - [Experimento 3](section4.1)\n",
    "    - [Experimento 4](section4.2)\n",
    "* [Experimento Opcional](#section5)\n",
    "* [Conclusión](#section6)"
   ]
  },
  {
   "cell_type": "code",
   "execution_count": 29,
   "metadata": {},
   "outputs": [],
   "source": [
    "import tensorflow as tf\n",
    "import numpy as np\n",
    "\n",
    "# Para mostrar gráficas\n",
    "import matplotlib.pyplot as plt\n",
    "%matplotlib inline\n",
    "\n",
    "# Anaconda fixing problem\n",
    "import os\n",
    "os.environ['KMP_DUPLICATE_LIB_OK']='True'"
   ]
  },
  {
   "cell_type": "markdown",
   "metadata": {
    "colab_type": "text",
    "id": "fnreb9XA3Nsp"
   },
   "source": [
    "<a id=\"section1\"></a>\n",
    "# <font color=\"#004D7F\" size=5>Caso práctico</font>\n",
    "\n",
    "El objetivo de este caso práctico es simular como se haría un análisis completo de un problema para resolverlo con Deep Learning. Nos pondremos en la piel de un *data scientist* dedicado a analizar y crear modelos de Deep Learning para pasarlos a producción y ser desplegados en una aplicación.\n",
    "\n",
    "Imaginemos que tenemos un dataset completo que queremos explotar, nuestra labor será coger este dataset de imágenes (CIFAR10) y realizar varios experimentos con distintas redes para descubrir cual funciona mejor y cual elegimos para pasar a producción. Por lo que además de tener que entrerar distintas redes y entender qué ha pasado en cada entrenamiento explicando el resultado, al final deberemos justificar cual de todos los modelos entrenados es el más óptimo para pasar a producción.\n",
    "\n",
    "Cada experimento que tendremos que realizar estará bien definido, la rede que deberéis crear y entrenar será proporcinada por lo que solamente tendréis que crear la red que se nos indica con TensorFlow y realizar el entrenamiento de la misma. Por cada experimento deberéis de sacar conclusiones de cómo de bueno o malo ha sido ese entrenamiento. Al final de todos los experimentos, deberemos de generar una pequeña documentación donde justificamos cual de los modelos entrenados es el más óptimo para pasar a producción.\n",
    "\n",
    "<a id=\"section1.1\"></a>\n",
    "# <font color=\"#004D7F\" size=4>Parte obligatoria</font>\n",
    "\n",
    "Será obligatorio realizar cada uno de los experimentos que están definidos. En cada experimento está definida la red que se tiene que crear y la configuración con la que se tiene que entrenar, por lo que solamente tendréis que pasar esa definición a código con TensorFlow. Al finalizar cada experimento se deberá genera una pequeña documentación explicando cómo ha sido el entrenamiento y sacando conclusiones de los resultados.\n",
    "\n",
    "Al final, después de realizar cada uno de los experimentos, se deberá de generar una pequeña documentación justificando cual de los modelos entreados es el óptimo para ser desplegado en producción.\n",
    "\n",
    "Es muy importante destacar que el objetivo de este caso práctico no es que obtengáis unos resultados muy buenos, de echo los resultados que obtendréis son los pre-definidos por las redes que tenéis que hacer. El objetivo principal es que veáis como se aborda un problema para ser resuelto con Deep Learning, donde partimos de un dataset y un objetivo, y vamos realizando diferentes experimentos hasta encontrar la solución más óptima que podemos llegar a desplegar en producción. Además, otro objetivo es que entendáis que estáis haciendo y los resultados que obtenéis con cada experimento: sin son buenos o malos, si hay sobreajuste en los datos de entrenamiento, si nuestra red no termina por aprender, si nuestra red se estanca en algún punto y ya no aprende más, etc.\n",
    "\n",
    "Para tener una buena práctica en la realización de este caso práctico se ofrecen esta recomendaciones:\n",
    "\n",
    "- Utiliza correctamente el sistema de celdas de jupyter. La libreta está realizada de tal forma que solo tendréis que completar las celdas que se indican, ya sea con código o con texto en markdown. Se recomienda rellenar solamente las celdas indicadas para que quede un informe limpio y fácil de seguir. Si fuera necesario incluir más celdas por cualquier motivo se puede hacer pero realizarlo con cuidado para no ensuciar demasiado la libreta.\n",
    "<br><br>\n",
    "- Las redes que tendréis que crear en cada experimento son las vistas en clase, por lo que os podéis inspirar en los ejemplos vistos en los tutoriales. Os recomiendo que no copiéis y peguéis código tal cual, sino que lo escribáis por vuestra cuenta y entendáis lo que estáis haciendo en cada momento. Tomaros el tiempo que haga falta para entender cada paso.\n",
    "<br><br>\n",
    "- Comprueba que todo se ejecuta correctamente antes de enviar tu trabajo. La mejor forma de enviarlo es exportando la libreta a pdf o html para enviarla en un formato más profesional.\n",
    "\n",
    "\n",
    "<a id=\"section1.2\"></a>\n",
    "# <font color=\"#004D7F\" size=4>Parte opcional</font>\n",
    "La parte opcional se trata de que vosotros creéis vuestra propia red neuronal para obtener mejores resultados que los de la parte obligatoria. Obviamente no es obligatorio conseguir mejores resultados. Se os indicarán algunan pautas adicionales para poder crear vuestra propia red de la nada. ¡Esta parte podéis verla como un reto!\n",
    "\n",
    "<a id=\"section1.3\"></a>\n",
    "# <font color=\"#004D7F\" size=4>Objetivos</font>\n",
    "* Cargar y entender los datos del dataset CIFAR10 con los que se trabajarán.\n",
    "* Crear cada una de las redes indicadas en los experimentos.\n",
    "* Entrenar cada una de las redes creadas en los experimentos.\n",
    "* Escribir un pequeño texto explicando el resultado de cada entrenamiento.\n",
    "* Escribir un pequeño texto de conclusión al final del cuaderno justificando el modelo elegido para desplegar.\n",
    "\n",
    "<a id=\"section1.4\"></a>\n",
    "# <font color=\"#004D7F\" size=4>Criterios de entrega</font>\n",
    "Se deberá entregar una libreta de jupyter en formato html o pdf, el trabajo debe estar autocontenido, incluyendo código y texto explicativo para cada sección. \n",
    "\n",
    "<a id=\"section1.5\"></a>\n",
    "# <font color=\"#004D7F\" size=4>Temporalización</font>\n",
    "* Fase 1: Instala y familiarizate con todo el entorno de trabajo.\n",
    "* Fase 2: Cargar los datos y familizarizarse con ellos.\n",
    "* Fase 3: Realizar cada uno de los experimentos indicados.\n",
    "* Fase 4: Escribir un texto de conclusión al final."
   ]
  },
  {
   "cell_type": "markdown",
   "metadata": {},
   "source": [
    "<a id=\"section2\"></a>\n",
    "# <font color=\"#004D7F\" size=5>CIFAR10 dataset</font>\n",
    "\n",
    "Este dataset es el que hemos visto en la clase anterior y con el que trabajaremos en el caso práctico. Para refresarlo, es un dataset que contiene imágenes en color de objetos que tenemos que clasificar.\n",
    "\n",
    "El dataset de de imágenes CIFAR10 tiene las siguintes características:\n",
    "- Imágenes de 10 tipos de objetos: aviones, automóbiles, pájaros, gatos, ciervos, perros, ranas, caballos, barcos y camiones.\n",
    "- Imágenes en color, es decir, cada pixel tiene 3 valores entre 0 y 255, esos valores corresponden a los valores de RGB (Red, Green, Blue).\n",
    "- Imágenes de tamaño 32x32x3, 32x32 píxeles y 3 valores por pixel.\n",
    "- 50.000 imágenes para el entrenamiento y 10.000 imágenes para el test.\n",
    "\n",
    "<br><br>\n",
    "<img src=\"images/rgb-image.png\" align=\"center\" width=\"400\">\n",
    "\n",
    "Para empezar debemos descargar los datos de las bases de datos de Tensorflow."
   ]
  },
  {
   "cell_type": "markdown",
   "metadata": {},
   "source": [
    "### Preparar datos de entrenamiento"
   ]
  },
  {
   "cell_type": "code",
   "execution_count": 30,
   "metadata": {
    "colab": {
     "base_uri": "https://localhost:8080/",
     "height": 51
    },
    "colab_type": "code",
    "executionInfo": {
     "elapsed": 1622,
     "status": "ok",
     "timestamp": 1585247912718,
     "user": {
      "displayName": "Daniel González Medina",
      "photoUrl": "",
      "userId": "13811012319715560188"
     },
     "user_tz": -60
    },
    "id": "7-9vhppH3Nsq",
    "outputId": "0b66ea1d-6451-452d-83e3-61b36a82b1f6"
   },
   "outputs": [],
   "source": [
    "cifar10 = tf.keras.datasets.cifar10\n",
    "(x_train, y_train), (x_test, y_test) = cifar10.load_data()\n",
    "labels = ['airplane', 'automobile', 'bird', 'cat', 'deer', 'dog', 'frog', 'horse', 'ship', 'truck']"
   ]
  },
  {
   "cell_type": "markdown",
   "metadata": {},
   "source": [
    "Normalizamos los valores entre 0 y 1."
   ]
  },
  {
   "cell_type": "code",
   "execution_count": 31,
   "metadata": {},
   "outputs": [],
   "source": [
    "x_train = x_train / 255.0\n",
    "x_test = x_test / 255.0"
   ]
  },
  {
   "cell_type": "code",
   "execution_count": 32,
   "metadata": {},
   "outputs": [
    {
     "name": "stdout",
     "output_type": "stream",
     "text": [
      "Num training images:  50000\n",
      "Num test images:  10000\n",
      "Dimension input:  (50000, 32, 32, 3)\n",
      "Dimension output:  (50000, 1)\n",
      "Output example:  [9]\n",
      "Label:  truck\n",
      "Valores de una imágen:\n",
      "[[[0.23137255 0.24313725 0.24705882]\n",
      "  [0.16862745 0.18039216 0.17647059]\n",
      "  [0.19607843 0.18823529 0.16862745]\n",
      "  ...\n",
      "  [0.61960784 0.51764706 0.42352941]\n",
      "  [0.59607843 0.49019608 0.4       ]\n",
      "  [0.58039216 0.48627451 0.40392157]]\n",
      "\n",
      " [[0.0627451  0.07843137 0.07843137]\n",
      "  [0.         0.         0.        ]\n",
      "  [0.07058824 0.03137255 0.        ]\n",
      "  ...\n",
      "  [0.48235294 0.34509804 0.21568627]\n",
      "  [0.46666667 0.3254902  0.19607843]\n",
      "  [0.47843137 0.34117647 0.22352941]]\n",
      "\n",
      " [[0.09803922 0.09411765 0.08235294]\n",
      "  [0.0627451  0.02745098 0.        ]\n",
      "  [0.19215686 0.10588235 0.03137255]\n",
      "  ...\n",
      "  [0.4627451  0.32941176 0.19607843]\n",
      "  [0.47058824 0.32941176 0.19607843]\n",
      "  [0.42745098 0.28627451 0.16470588]]\n",
      "\n",
      " ...\n",
      "\n",
      " [[0.81568627 0.66666667 0.37647059]\n",
      "  [0.78823529 0.6        0.13333333]\n",
      "  [0.77647059 0.63137255 0.10196078]\n",
      "  ...\n",
      "  [0.62745098 0.52156863 0.2745098 ]\n",
      "  [0.21960784 0.12156863 0.02745098]\n",
      "  [0.20784314 0.13333333 0.07843137]]\n",
      "\n",
      " [[0.70588235 0.54509804 0.37647059]\n",
      "  [0.67843137 0.48235294 0.16470588]\n",
      "  [0.72941176 0.56470588 0.11764706]\n",
      "  ...\n",
      "  [0.72156863 0.58039216 0.36862745]\n",
      "  [0.38039216 0.24313725 0.13333333]\n",
      "  [0.3254902  0.20784314 0.13333333]]\n",
      "\n",
      " [[0.69411765 0.56470588 0.45490196]\n",
      "  [0.65882353 0.50588235 0.36862745]\n",
      "  [0.70196078 0.55686275 0.34117647]\n",
      "  ...\n",
      "  [0.84705882 0.72156863 0.54901961]\n",
      "  [0.59215686 0.4627451  0.32941176]\n",
      "  [0.48235294 0.36078431 0.28235294]]]\n"
     ]
    }
   ],
   "source": [
    "#COMPLETAR: escribe aquí tu código\n",
    "\n",
    "print(\"Num training images: \", x_train.shape[0])\n",
    "print(\"Num test images: \", x_test.shape[0])\n",
    "print(\"Dimension input: \", x_train.shape)\n",
    "print(\"Dimension output: \", y_train.shape)\n",
    "print(\"Output example: \", y_train[1])\n",
    "print(\"Label: \", labels[y_train[1][0]])\n",
    "img = x_train[0]\n",
    "print(\"Valores de una imágen:\")\n",
    "print(img)"
   ]
  },
  {
   "cell_type": "markdown",
   "metadata": {
    "colab_type": "text",
    "id": "St2ah_ku3Ns9"
   },
   "source": [
    "<a id=\"section3\"></a>\n",
    "# <font color=\"#004D7F\" size=5>Experimentos con redes neuronales densas</font>\n",
    "A continuación, realizar 2 experimentos usando redes neuronales densas con las redes que se te indican en cada sección.\n",
    "\n",
    "<a id=\"section3.1\"></a>\n",
    "# <font color=\"#004D7F\" size=4>Experimento 1</font>\n",
    "\n",
    "Arquitectura de la red:\n",
    "\n",
    "- Capa de aplanado `Flatten` con entrada `(32,32,3)`\n",
    "- Capa densa `Dense` con 10 neuronas y función de activación _ReLU_\n",
    "- Capa de salida densa `Dense` con 10 neuronas y función de activación _Softmax_\n",
    "\n",
    "Configuración del entrenamiento:\n",
    "\n",
    "- Optimizador: Adam con factor de entrenamiento 0.01\n",
    "- Función de error: `sparce_categorical_crossentropy`\n",
    "- Métricas: `accuracy`\n",
    "- Número de *epochs*: 20\n",
    "\n",
    "#### Crear y entrenar la red neuronal "
   ]
  },
  {
   "cell_type": "code",
   "execution_count": 33,
   "metadata": {},
   "outputs": [
    {
     "name": "stdout",
     "output_type": "stream",
     "text": [
      "Epoch 1/20\n",
      "1563/1563 [==============================] - 4s 3ms/step - loss: 2.3400 - accuracy: 0.0991 - val_loss: 2.3039 - val_accuracy: 0.1000\n",
      "Epoch 2/20\n",
      "1563/1563 [==============================] - 4s 2ms/step - loss: 2.3038 - accuracy: 0.1018 - val_loss: 2.3041 - val_accuracy: 0.1000\n",
      "Epoch 3/20\n",
      "1563/1563 [==============================] - 3s 2ms/step - loss: 2.3041 - accuracy: 0.0973 - val_loss: 2.3037 - val_accuracy: 0.1000\n",
      "Epoch 4/20\n",
      "1563/1563 [==============================] - 4s 2ms/step - loss: 2.3040 - accuracy: 0.0987 - val_loss: 2.3045 - val_accuracy: 0.1000\n",
      "Epoch 5/20\n",
      "1563/1563 [==============================] - 4s 3ms/step - loss: 2.3042 - accuracy: 0.0985 - val_loss: 2.3029 - val_accuracy: 0.1000\n",
      "Epoch 6/20\n",
      "1563/1563 [==============================] - 4s 2ms/step - loss: 2.3041 - accuracy: 0.0976 - val_loss: 2.3032 - val_accuracy: 0.1000\n",
      "Epoch 7/20\n",
      "1563/1563 [==============================] - 4s 2ms/step - loss: 2.3041 - accuracy: 0.1000 - val_loss: 2.3042 - val_accuracy: 0.1000\n",
      "Epoch 8/20\n",
      "1563/1563 [==============================] - 4s 2ms/step - loss: 2.3040 - accuracy: 0.1015 - val_loss: 2.3047 - val_accuracy: 0.1000\n",
      "Epoch 9/20\n",
      "1563/1563 [==============================] - 4s 2ms/step - loss: 2.3040 - accuracy: 0.0991 - val_loss: 2.3039 - val_accuracy: 0.1000\n",
      "Epoch 10/20\n",
      "1563/1563 [==============================] - 4s 2ms/step - loss: 2.3040 - accuracy: 0.0989 - val_loss: 2.3040 - val_accuracy: 0.1000\n",
      "Epoch 11/20\n",
      "1563/1563 [==============================] - 4s 2ms/step - loss: 2.3039 - accuracy: 0.0997 - val_loss: 2.3036 - val_accuracy: 0.1000\n",
      "Epoch 12/20\n",
      "1563/1563 [==============================] - 4s 2ms/step - loss: 2.3040 - accuracy: 0.0983 - val_loss: 2.3030 - val_accuracy: 0.1000\n",
      "Epoch 13/20\n",
      "1563/1563 [==============================] - 4s 2ms/step - loss: 2.3039 - accuracy: 0.0997 - val_loss: 2.3035 - val_accuracy: 0.1000\n",
      "Epoch 14/20\n",
      "1563/1563 [==============================] - 4s 2ms/step - loss: 2.3041 - accuracy: 0.1000 - val_loss: 2.3035 - val_accuracy: 0.1000\n",
      "Epoch 15/20\n",
      "1563/1563 [==============================] - 4s 2ms/step - loss: 2.3040 - accuracy: 0.0984 - val_loss: 2.3036 - val_accuracy: 0.1000\n",
      "Epoch 16/20\n",
      "1563/1563 [==============================] - 4s 2ms/step - loss: 2.3041 - accuracy: 0.0978 - val_loss: 2.3035 - val_accuracy: 0.1000\n",
      "Epoch 17/20\n",
      "1563/1563 [==============================] - 4s 2ms/step - loss: 2.3041 - accuracy: 0.0980 - val_loss: 2.3038 - val_accuracy: 0.1000\n",
      "Epoch 18/20\n",
      "1563/1563 [==============================] - 4s 2ms/step - loss: 2.3038 - accuracy: 0.1019 - val_loss: 2.3036 - val_accuracy: 0.1000\n",
      "Epoch 19/20\n",
      "1563/1563 [==============================] - 4s 2ms/step - loss: 2.3039 - accuracy: 0.0986 - val_loss: 2.3042 - val_accuracy: 0.1000\n",
      "Epoch 20/20\n",
      "1563/1563 [==============================] - 4s 2ms/step - loss: 2.3040 - accuracy: 0.0993 - val_loss: 2.3040 - val_accuracy: 0.1000\n",
      "Model: \"sequential_6\"\n",
      "_________________________________________________________________\n",
      "Layer (type)                 Output Shape              Param #   \n",
      "=================================================================\n",
      "flatten_6 (Flatten)          (None, 3072)              0         \n",
      "_________________________________________________________________\n",
      "dense_17 (Dense)             (None, 10)                30730     \n",
      "_________________________________________________________________\n",
      "dense_18 (Dense)             (None, 10)                110       \n",
      "=================================================================\n",
      "Total params: 30,840\n",
      "Trainable params: 30,840\n",
      "Non-trainable params: 0\n",
      "_________________________________________________________________\n"
     ]
    }
   ],
   "source": [
    "# Definimos la red\n",
    "model = tf.keras.models.Sequential([\n",
    "    tf.keras.layers.Flatten(input_shape=(32,32,3)),\n",
    "    tf.keras.layers.Dense(10, activation=\"relu\"),\n",
    "    tf.keras.layers.Dense(10, activation=\"softmax\")\n",
    "])\n",
    "\n",
    "# Definimos el optimizador\n",
    "opt = tf.keras.optimizers.Adam(learning_rate=0.01)\n",
    "\n",
    "# Compilamos el modelo\n",
    "model.compile(optimizer=opt,\n",
    "              loss='sparse_categorical_crossentropy',\n",
    "              metrics=['accuracy'])\n",
    "\n",
    "hist = model.fit(x_train, y_train, validation_data=(x_test, y_test), epochs=20)\n",
    "\n",
    "# Visualizamos modelo\n",
    "model.summary()"
   ]
  },
  {
   "cell_type": "markdown",
   "metadata": {},
   "source": [
    "### Evaluar modelo"
   ]
  },
  {
   "cell_type": "code",
   "execution_count": 34,
   "metadata": {},
   "outputs": [
    {
     "data": {
      "text/plain": [
       "<matplotlib.legend.Legend at 0x21cc3890608>"
      ]
     },
     "execution_count": 34,
     "metadata": {},
     "output_type": "execute_result"
    },
    {
     "data": {
      "image/png": "[encoded data removed]",
      "text/plain": [
       "<Figure size 432x288 with 1 Axes>"
      ]
     },
     "metadata": {
      "needs_background": "light"
     },
     "output_type": "display_data"
    }
   ],
   "source": [
    "plt.plot(hist.history['loss'], label='loss')\n",
    "plt.plot(hist.history['val_loss'], label='val_loss')\n",
    "plt.legend()"
   ]
  },
  {
   "cell_type": "code",
   "execution_count": 35,
   "metadata": {},
   "outputs": [
    {
     "data": {
      "text/plain": [
       "<matplotlib.legend.Legend at 0x21ccb09ca48>"
      ]
     },
     "execution_count": 35,
     "metadata": {},
     "output_type": "execute_result"
    },
    {
     "data": {
      "image/png": "[encoded data removed]",
      "text/plain": [
       "<Figure size 432x288 with 1 Axes>"
      ]
     },
     "metadata": {
      "needs_background": "light"
     },
     "output_type": "display_data"
    }
   ],
   "source": [
    "plt.plot(hist.history['accuracy'], label='acc')\n",
    "plt.plot(hist.history['val_accuracy'], label='val_acc')\n",
    "plt.legend()"
   ]
  },
  {
   "cell_type": "markdown",
   "metadata": {},
   "source": [
    "El modelo consta de 30.840 parametros para entrenar y 3 capas:\n",
    "\n",
    "La primera capa es una Flatten y nos ha permitido aplanar 3072 parametros. Tanto la segunda como la tercera capa son de tipo Dense con 10 neuronas de activación respectivamente. La primera de tipo Relu y la segunda Softmax.\n",
    "\n",
    "Los resultados no son muy esperanzadores con solo un 10% y en el conjunto de test o validación también un 10%"
   ]
  },
  {
   "cell_type": "markdown",
   "metadata": {},
   "source": [
    "<a id=\"section3.2\"></a>\n",
    "# <font color=\"#004D7F\" size=4>Experimento 2</font>\n",
    "\n",
    "Arquitectura de la red:\n",
    "\n",
    "- Capa de aplanado `Flatten` con entrada `(32,32,3)`.\n",
    "- Capa densa `Dense` con 32 neuronas y función de activación _ReLU_.\n",
    "- Capa densa `Dense` con 64 neuronas y función de activación _ReLU_.\n",
    "- Capa densa `Dense` con 128 neuronas y función de activación _ReLU_.\n",
    "- Capa de salida densa `Dense` con 10 neuronas y función de activación _Softmax_.\n",
    "\n",
    "Configuración del entrenamiento:\n",
    "\n",
    "- Optimizador: Adam con factor de entrenamiento 0.001\n",
    "- Función de error: `sparce_categorical_crossentropy`.\n",
    "- Métricas: `accuracy`.\n",
    "- Número de _epochs_: 40\n",
    "\n",
    "#### Crear y entrenar la red neuronal "
   ]
  },
  {
   "cell_type": "code",
   "execution_count": 36,
   "metadata": {},
   "outputs": [
    {
     "name": "stdout",
     "output_type": "stream",
     "text": [
      "Epoch 1/40\n",
      "1563/1563 [==============================] - 5s 3ms/step - loss: 1.8882 - accuracy: 0.3059 - val_loss: 1.8100 - val_accuracy: 0.3376\n",
      "Epoch 2/40\n",
      "1563/1563 [==============================] - 4s 3ms/step - loss: 1.7610 - accuracy: 0.3586 - val_loss: 1.7188 - val_accuracy: 0.3745\n",
      "Epoch 3/40\n",
      "1563/1563 [==============================] - 5s 3ms/step - loss: 1.7096 - accuracy: 0.3799 - val_loss: 1.7907 - val_accuracy: 0.3694\n",
      "Epoch 4/40\n",
      "1563/1563 [==============================] - 4s 3ms/step - loss: 1.6783 - accuracy: 0.3902 - val_loss: 1.6522 - val_accuracy: 0.3956\n",
      "Epoch 5/40\n",
      "1563/1563 [==============================] - 4s 3ms/step - loss: 1.6505 - accuracy: 0.4025 - val_loss: 1.6639 - val_accuracy: 0.3956\n",
      "Epoch 6/40\n",
      "1563/1563 [==============================] - 5s 3ms/step - loss: 1.6346 - accuracy: 0.4125 - val_loss: 1.6463 - val_accuracy: 0.4083\n",
      "Epoch 7/40\n",
      "1563/1563 [==============================] - 4s 3ms/step - loss: 1.6194 - accuracy: 0.4165 - val_loss: 1.6387 - val_accuracy: 0.4068\n",
      "Epoch 8/40\n",
      "1563/1563 [==============================] - 4s 3ms/step - loss: 1.6103 - accuracy: 0.4199 - val_loss: 1.6413 - val_accuracy: 0.4022\n",
      "Epoch 9/40\n",
      "1563/1563 [==============================] - 4s 3ms/step - loss: 1.5964 - accuracy: 0.4218 - val_loss: 1.5908 - val_accuracy: 0.4255\n",
      "Epoch 10/40\n",
      "1563/1563 [==============================] - 5s 3ms/step - loss: 1.5879 - accuracy: 0.4248 - val_loss: 1.6491 - val_accuracy: 0.4061\n",
      "Epoch 11/40\n",
      "1563/1563 [==============================] - 4s 3ms/step - loss: 1.5828 - accuracy: 0.4267 - val_loss: 1.6084 - val_accuracy: 0.4184\n",
      "Epoch 12/40\n",
      "1563/1563 [==============================] - 4s 3ms/step - loss: 1.5706 - accuracy: 0.4317 - val_loss: 1.6170 - val_accuracy: 0.4206\n",
      "Epoch 13/40\n",
      "1563/1563 [==============================] - 4s 3ms/step - loss: 1.5690 - accuracy: 0.4315 - val_loss: 1.6448 - val_accuracy: 0.4119\n",
      "Epoch 14/40\n",
      "1563/1563 [==============================] - 5s 3ms/step - loss: 1.5581 - accuracy: 0.4371 - val_loss: 1.6066 - val_accuracy: 0.4255\n",
      "Epoch 15/40\n",
      "1563/1563 [==============================] - 5s 3ms/step - loss: 1.5560 - accuracy: 0.4386 - val_loss: 1.5931 - val_accuracy: 0.4274\n",
      "Epoch 16/40\n",
      "1563/1563 [==============================] - 5s 3ms/step - loss: 1.5527 - accuracy: 0.4385 - val_loss: 1.6252 - val_accuracy: 0.4164\n",
      "Epoch 17/40\n",
      "1563/1563 [==============================] - 5s 3ms/step - loss: 1.5450 - accuracy: 0.4423 - val_loss: 1.6173 - val_accuracy: 0.4166\n",
      "Epoch 18/40\n",
      "1563/1563 [==============================] - 4s 3ms/step - loss: 1.5412 - accuracy: 0.4448 - val_loss: 1.5941 - val_accuracy: 0.4278\n",
      "Epoch 19/40\n",
      "1563/1563 [==============================] - 4s 3ms/step - loss: 1.5379 - accuracy: 0.4435 - val_loss: 1.6212 - val_accuracy: 0.4238\n",
      "Epoch 20/40\n",
      "1563/1563 [==============================] - 4s 3ms/step - loss: 1.5351 - accuracy: 0.4454 - val_loss: 1.6006 - val_accuracy: 0.4211\n",
      "Epoch 21/40\n",
      "1563/1563 [==============================] - 5s 3ms/step - loss: 1.5309 - accuracy: 0.4456 - val_loss: 1.5936 - val_accuracy: 0.4310\n",
      "Epoch 22/40\n",
      "1563/1563 [==============================] - 5s 3ms/step - loss: 1.5274 - accuracy: 0.4484 - val_loss: 1.6018 - val_accuracy: 0.4296\n",
      "Epoch 23/40\n",
      "1563/1563 [==============================] - 4s 3ms/step - loss: 1.5225 - accuracy: 0.4503 - val_loss: 1.5803 - val_accuracy: 0.4390\n",
      "Epoch 24/40\n",
      "1563/1563 [==============================] - 5s 3ms/step - loss: 1.5189 - accuracy: 0.4517 - val_loss: 1.5833 - val_accuracy: 0.4366\n",
      "Epoch 25/40\n",
      "1563/1563 [==============================] - 4s 3ms/step - loss: 1.5163 - accuracy: 0.4518 - val_loss: 1.6169 - val_accuracy: 0.4214\n",
      "Epoch 26/40\n",
      "1563/1563 [==============================] - 4s 3ms/step - loss: 1.5098 - accuracy: 0.4534 - val_loss: 1.5870 - val_accuracy: 0.4310\n",
      "Epoch 27/40\n",
      "1563/1563 [==============================] - 4s 3ms/step - loss: 1.5087 - accuracy: 0.4551 - val_loss: 1.6073 - val_accuracy: 0.4237\n",
      "Epoch 28/40\n",
      "1563/1563 [==============================] - 5s 3ms/step - loss: 1.5058 - accuracy: 0.4546 - val_loss: 1.5811 - val_accuracy: 0.4420\n",
      "Epoch 29/40\n",
      "1563/1563 [==============================] - 4s 3ms/step - loss: 1.5064 - accuracy: 0.4559 - val_loss: 1.6111 - val_accuracy: 0.4276\n",
      "Epoch 30/40\n",
      "1563/1563 [==============================] - 4s 3ms/step - loss: 1.4983 - accuracy: 0.4579 - val_loss: 1.6255 - val_accuracy: 0.4249\n",
      "Epoch 31/40\n",
      "1563/1563 [==============================] - 5s 3ms/step - loss: 1.4998 - accuracy: 0.4582 - val_loss: 1.5862 - val_accuracy: 0.4432\n",
      "Epoch 32/40\n",
      "1563/1563 [==============================] - 4s 3ms/step - loss: 1.4931 - accuracy: 0.4594 - val_loss: 1.5954 - val_accuracy: 0.4384\n",
      "Epoch 33/40\n",
      "1563/1563 [==============================] - 4s 3ms/step - loss: 1.4917 - accuracy: 0.4602 - val_loss: 1.5920 - val_accuracy: 0.4331\n",
      "Epoch 34/40\n",
      "1563/1563 [==============================] - 4s 3ms/step - loss: 1.4894 - accuracy: 0.4613 - val_loss: 1.5830 - val_accuracy: 0.4353\n",
      "Epoch 35/40\n",
      "1563/1563 [==============================] - 5s 3ms/step - loss: 1.4830 - accuracy: 0.4651 - val_loss: 1.5877 - val_accuracy: 0.4379\n",
      "Epoch 36/40\n",
      "1563/1563 [==============================] - 4s 3ms/step - loss: 1.4843 - accuracy: 0.4627 - val_loss: 1.5886 - val_accuracy: 0.4320\n",
      "Epoch 37/40\n",
      "1563/1563 [==============================] - 4s 3ms/step - loss: 1.4785 - accuracy: 0.4674 - val_loss: 1.6364 - val_accuracy: 0.4238\n",
      "Epoch 38/40\n",
      "1563/1563 [==============================] - 4s 3ms/step - loss: 1.4755 - accuracy: 0.4655 - val_loss: 1.5952 - val_accuracy: 0.4326\n",
      "Epoch 39/40\n",
      "1563/1563 [==============================] - 5s 3ms/step - loss: 1.4755 - accuracy: 0.4671 - val_loss: 1.6106 - val_accuracy: 0.4322\n",
      "Epoch 40/40\n",
      "1563/1563 [==============================] - 4s 3ms/step - loss: 1.4711 - accuracy: 0.4692 - val_loss: 1.5949 - val_accuracy: 0.4384\n",
      "Model: \"sequential_7\"\n",
      "_________________________________________________________________\n",
      "Layer (type)                 Output Shape              Param #   \n",
      "=================================================================\n",
      "flatten_7 (Flatten)          (None, 3072)              0         \n",
      "_________________________________________________________________\n",
      "dense_19 (Dense)             (None, 32)                98336     \n",
      "_________________________________________________________________\n",
      "dense_20 (Dense)             (None, 64)                2112      \n",
      "_________________________________________________________________\n",
      "dense_21 (Dense)             (None, 128)               8320      \n",
      "_________________________________________________________________\n",
      "dense_22 (Dense)             (None, 10)                1290      \n",
      "=================================================================\n",
      "Total params: 110,058\n",
      "Trainable params: 110,058\n",
      "Non-trainable params: 0\n",
      "_________________________________________________________________\n"
     ]
    }
   ],
   "source": [
    "# Definimos la red\n",
    "model = tf.keras.models.Sequential([\n",
    "    tf.keras.layers.Flatten(input_shape=(32,32,3)),\n",
    "    tf.keras.layers.Dense(32, activation=\"relu\"),\n",
    "    tf.keras.layers.Dense(64, activation=\"relu\"),\n",
    "    tf.keras.layers.Dense(128, activation=\"relu\"),\n",
    "    tf.keras.layers.Dense(10, activation=\"softmax\")\n",
    "])\n",
    "\n",
    "# Definimos el optimizador\n",
    "opt = tf.keras.optimizers.Adam(learning_rate=0.001)\n",
    "\n",
    "# Compilamos el modelo\n",
    "model.compile(optimizer=opt,\n",
    "              loss='sparse_categorical_crossentropy',\n",
    "              metrics=['accuracy'])\n",
    "\n",
    "hist = model.fit(x_train, y_train, validation_data=(x_test, y_test), epochs=40)\n",
    "\n",
    "# Visualizamos modelo\n",
    "model.summary()\n"
   ]
  },
  {
   "cell_type": "markdown",
   "metadata": {},
   "source": [
    "### Evaluar modelo"
   ]
  },
  {
   "cell_type": "code",
   "execution_count": 37,
   "metadata": {},
   "outputs": [
    {
     "data": {
      "text/plain": [
       "<matplotlib.legend.Legend at 0x21ccb152b88>"
      ]
     },
     "execution_count": 37,
     "metadata": {},
     "output_type": "execute_result"
    },
    {
     "data": {
      "image/png": "[encoded data removed]",
      "text/plain": [
       "<Figure size 432x288 with 1 Axes>"
      ]
     },
     "metadata": {
      "needs_background": "light"
     },
     "output_type": "display_data"
    }
   ],
   "source": [
    "plt.plot(hist.history['loss'], label='loss')\n",
    "plt.plot(hist.history['val_loss'], label='val_loss')\n",
    "plt.legend()"
   ]
  },
  {
   "cell_type": "code",
   "execution_count": 38,
   "metadata": {},
   "outputs": [
    {
     "data": {
      "text/plain": [
       "<matplotlib.legend.Legend at 0x21cc1619c88>"
      ]
     },
     "execution_count": 38,
     "metadata": {},
     "output_type": "execute_result"
    },
    {
     "data": {
      "image/png": "[encoded data removed]",
      "text/plain": [
       "<Figure size 432x288 with 1 Axes>"
      ]
     },
     "metadata": {
      "needs_background": "light"
     },
     "output_type": "display_data"
    }
   ],
   "source": [
    "plt.plot(hist.history['accuracy'], label='acc')\n",
    "plt.plot(hist.history['val_accuracy'], label='val_acc')\n",
    "plt.legend()"
   ]
  },
  {
   "cell_type": "markdown",
   "metadata": {},
   "source": [
    "El modelo consta de 110.058 parametros para entrenar y 5 capas:\n",
    "\n",
    "La primera capa es una Flatten y nosha permitido aplanar 1024 parametros. Tanto la segunda, la tercera, la cuarta y la quinta capa son de tipo Dense con 32, 64, 128 y 10 neuronas de activación respectivamente. Las 3 primeras de tipo Relu y la ultima Softmax.\n",
    "\n",
    "Los resultados no son muy esperanzadores con solo un 47% y en el conjunto de test o validación son de un 44%"
   ]
  },
  {
   "cell_type": "markdown",
   "metadata": {},
   "source": [
    "<a id=\"section4\"></a>\n",
    "# <font color=\"#004D7F\" size=5>Experimentos con CNNs</font>\n",
    "A continuación, realizar 2 experimentos usando redes convolucionales con las redes que se te indican en cada sección.\n",
    "\n",
    "<a id=\"section4.1\"></a>\n",
    "# <font color=\"#004D7F\" size=4>Experimento 3</font>\n",
    "\n",
    "Arquitectura de la red:\n",
    "\n",
    "- Capa convolucional `Conv2D` con 16 filtros/kernels, padding con relleno, activación *ReLU* y con entrada `(32,32,3)`\n",
    "- Capa pooling `MaxPool2D` con reducción de 2 tanto en tamaño como en desplazamiento (stride) y padding con relleno.\n",
    "- Capa de aplanado `Flatten`.\n",
    "- Capa densa `Dense` con 64 neuronas y función de activación _ReLU_.\n",
    "- Capa densa `Dense` con 32 neuronas y función de activación _ReLU_.\n",
    "- Capa de salida densa `Dense` con 10 neuronas y función de activación _Softmax_.\n",
    "\n",
    "Configuración del entrenamiento:\n",
    "\n",
    "- Optimizador: Adam con factor de entrenamiento 0.0001\n",
    "- Función de error: `sparce_categorical_crossentropy`.\n",
    "- Métricas: `accuracy`.\n",
    "- Número de _epochs_: 10\n",
    "\n",
    "#### Crear y entrenar la red neuronal "
   ]
  },
  {
   "cell_type": "code",
   "execution_count": 39,
   "metadata": {},
   "outputs": [
    {
     "name": "stdout",
     "output_type": "stream",
     "text": [
      "Epoch 1/10\n",
      "1563/1563 [==============================] - 36s 23ms/step - loss: 1.8652 - accuracy: 0.3411 - val_loss: 1.6440 - val_accuracy: 0.4208\n",
      "Epoch 2/10\n",
      "1563/1563 [==============================] - 37s 24ms/step - loss: 1.5696 - accuracy: 0.4436 - val_loss: 1.5299 - val_accuracy: 0.4571\n",
      "Epoch 3/10\n",
      "1563/1563 [==============================] - 36s 23ms/step - loss: 1.4414 - accuracy: 0.4878 - val_loss: 1.3910 - val_accuracy: 0.5097\n",
      "Epoch 4/10\n",
      "1563/1563 [==============================] - 37s 23ms/step - loss: 1.3612 - accuracy: 0.5176 - val_loss: 1.3304 - val_accuracy: 0.5302\n",
      "Epoch 5/10\n",
      "1563/1563 [==============================] - 37s 23ms/step - loss: 1.3037 - accuracy: 0.5411 - val_loss: 1.2975 - val_accuracy: 0.5389\n",
      "Epoch 6/10\n",
      "1563/1563 [==============================] - 36s 23ms/step - loss: 1.2634 - accuracy: 0.5538 - val_loss: 1.2646 - val_accuracy: 0.5565\n",
      "Epoch 7/10\n",
      "1563/1563 [==============================] - 36s 23ms/step - loss: 1.2263 - accuracy: 0.5706 - val_loss: 1.2300 - val_accuracy: 0.5668\n",
      "Epoch 8/10\n",
      "1563/1563 [==============================] - 36s 23ms/step - loss: 1.1942 - accuracy: 0.5826 - val_loss: 1.2245 - val_accuracy: 0.5678\n",
      "Epoch 9/10\n",
      "1563/1563 [==============================] - 37s 23ms/step - loss: 1.1654 - accuracy: 0.5932 - val_loss: 1.1963 - val_accuracy: 0.5803\n",
      "Epoch 10/10\n",
      "1563/1563 [==============================] - 36s 23ms/step - loss: 1.1417 - accuracy: 0.5984 - val_loss: 1.1821 - val_accuracy: 0.5854\n",
      "Model: \"sequential_8\"\n",
      "_________________________________________________________________\n",
      "Layer (type)                 Output Shape              Param #   \n",
      "=================================================================\n",
      "conv2d_4 (Conv2D)            (None, 32, 32, 16)        1216      \n",
      "_________________________________________________________________\n",
      "max_pooling2d_4 (MaxPooling2 (None, 16, 16, 16)        0         \n",
      "_________________________________________________________________\n",
      "flatten_8 (Flatten)          (None, 4096)              0         \n",
      "_________________________________________________________________\n",
      "dense_23 (Dense)             (None, 64)                262208    \n",
      "_________________________________________________________________\n",
      "dense_24 (Dense)             (None, 32)                2080      \n",
      "_________________________________________________________________\n",
      "dense_25 (Dense)             (None, 10)                330       \n",
      "=================================================================\n",
      "Total params: 265,834\n",
      "Trainable params: 265,834\n",
      "Non-trainable params: 0\n",
      "_________________________________________________________________\n"
     ]
    }
   ],
   "source": [
    "# Definimos la red\n",
    "model = tf.keras.models.Sequential([\n",
    "    tf.keras.layers.Conv2D(16, (5, 5), padding=\"same\", activation=\"relu\", input_shape=(32,32,3)),\n",
    "    tf.keras.layers.MaxPool2D(pool_size=(2, 2), strides=(2, 2), padding=\"same\"),\n",
    "    tf.keras.layers.Flatten(),\n",
    "    tf.keras.layers.Dense(64, activation=\"relu\"),\n",
    "    tf.keras.layers.Dense(32, activation=\"relu\"),\n",
    "    tf.keras.layers.Dense(10, activation=\"softmax\")\n",
    "])\n",
    "\n",
    "\n",
    "# Definimos el optimizador\n",
    "opt = tf.keras.optimizers.Adam(learning_rate=0.0001)\n",
    "\n",
    "# Compilamos el modelo\n",
    "model.compile(optimizer=opt,\n",
    "              loss='sparse_categorical_crossentropy',\n",
    "              metrics=['accuracy'])\n",
    "\n",
    "hist = model.fit(x_train, y_train, validation_data=(x_test, y_test), epochs=10)\n",
    "\n",
    "# Visualizamos modelo\n",
    "model.summary()"
   ]
  },
  {
   "cell_type": "markdown",
   "metadata": {},
   "source": [
    "### Evaluar modelo"
   ]
  },
  {
   "cell_type": "code",
   "execution_count": 40,
   "metadata": {},
   "outputs": [
    {
     "data": {
      "image/png": "[encoded data removed]",
      "text/plain": [
       "<Figure size 4320x2880 with 2 Axes>"
      ]
     },
     "metadata": {
      "needs_background": "light"
     },
     "output_type": "display_data"
    }
   ],
   "source": [
    "fig=plt.figure(figsize=(60, 40))\n",
    "\n",
    "# error\n",
    "fig.add_subplot(10, 10, 2)\n",
    "plt.plot(hist.history['loss'], label='loss')\n",
    "plt.plot(hist.history['val_loss'], label='val_loss')\n",
    "\n",
    "# precision\n",
    "fig.add_subplot(10, 10, 1)\n",
    "plt.plot(hist.history['accuracy'], label='acc')\n",
    "plt.plot(hist.history['val_accuracy'], label='val_acc')\n",
    "plt.legend()\n",
    "\n",
    "plt.legend()\n",
    "plt.show()"
   ]
  },
  {
   "cell_type": "markdown",
   "metadata": {},
   "source": [
    "El modelo consta de 265.834 parametros para entrenar y de 6 capas: \n",
    "\n",
    "La primera capa es una convolucional con un valor o tamaño de salida de 32x32x16. Los parametros que va a tener que aprender en esta capa son de 1216 y los 16 son los kernels a aplicar por cada capa.\n",
    "La segunda capa es de pooling, exactamente max pooling. Al tener tanto un pool size y un stride de 2x2, reduciremos a la mitad el tamaño de nuestra imagen.\n",
    "La tercera capa nos ha permitido aplanar 4096 parametros (= 16x16x16).\n",
    "La cuarta, quinta y sexta capa es de tipo densa de activación con 64, 32 y 10 neuronas respectivamente.\n",
    "\n",
    "Los resultados no son muy esperanzadores con solo un 60% y en el conjunto de test o validación son de un 59%"
   ]
  },
  {
   "cell_type": "markdown",
   "metadata": {},
   "source": [
    "<a id=\"section4.2\"></a>\n",
    "# <font color=\"#004D7F\" size=4>Experimento 4</font>\n",
    "\n",
    "Arquitectura de la red:\n",
    "\n",
    "- Capa convolucional `Conv2D` con 32 filtros/kernels, padding con relleno, activación *ReLU* y con entrada `(32,32,3)`\n",
    "- Capa pooling `MaxPool2D` con reducción de 2 tanto en tamaño como en desplazamiento (stride) y padding con relleno.\n",
    "- Capa convolucional `Conv2D` con 64 filtros/kernels, padding con relleno y activación *ReLU*\n",
    "- Capa pooling `MaxPool2D` con reducción de 2 tanto en tamaño como en desplazamiento (stride) y padding con relleno.\n",
    "- Capa convolucional `Conv2D` con 64 filtros/kernels, padding con relleno y activación *ReLU*\n",
    "- Capa pooling `MaxPool2D` con reducción de 2 tanto en tamaño como en desplazamiento (stride) y padding con relleno.\n",
    "- Capa de aplanado `Flatten`.\n",
    "- Capa densa `Dense` con 64 neuronas y función de activación _ReLU_.\n",
    "- Capa de salida densa `Dense` con 10 neuronas y función de activación _Softmax_.\n",
    "\n",
    "Configuración del entrenamiento:\n",
    "\n",
    "- Optimizador: Adam con factor de entrenamiento 0.001\n",
    "- Función de error: `sparce_categorical_crossentropy`.\n",
    "- Métricas: `accuracy`.\n",
    "- Número de _epochs_: 20\n",
    "\n",
    "\n",
    "#### Crear y entrenar la red neuronal "
   ]
  },
  {
   "cell_type": "code",
   "execution_count": 41,
   "metadata": {},
   "outputs": [
    {
     "name": "stdout",
     "output_type": "stream",
     "text": [
      "Epoch 1/20\n",
      "1563/1563 [==============================] - 138s 88ms/step - loss: 1.4860 - accuracy: 0.4600 - val_loss: 1.1988 - val_accuracy: 0.5725\n",
      "Epoch 2/20\n",
      "1563/1563 [==============================] - 137s 88ms/step - loss: 1.0842 - accuracy: 0.6166 - val_loss: 1.0587 - val_accuracy: 0.6223\n",
      "Epoch 3/20\n",
      "1563/1563 [==============================] - 137s 88ms/step - loss: 0.9054 - accuracy: 0.6816 - val_loss: 0.9180 - val_accuracy: 0.6826\n",
      "Epoch 4/20\n",
      "1563/1563 [==============================] - 137s 88ms/step - loss: 0.7862 - accuracy: 0.7245 - val_loss: 0.9359 - val_accuracy: 0.6871\n",
      "Epoch 5/20\n",
      "1563/1563 [==============================] - 137s 88ms/step - loss: 0.6942 - accuracy: 0.7564 - val_loss: 0.9531 - val_accuracy: 0.6784\n",
      "Epoch 6/20\n",
      "1563/1563 [==============================] - 136s 87ms/step - loss: 0.6151 - accuracy: 0.7852 - val_loss: 0.9450 - val_accuracy: 0.6978\n",
      "Epoch 7/20\n",
      "1563/1563 [==============================] - 137s 88ms/step - loss: 0.5499 - accuracy: 0.8062 - val_loss: 0.9273 - val_accuracy: 0.7039\n",
      "Epoch 8/20\n",
      "1563/1563 [==============================] - 137s 88ms/step - loss: 0.4804 - accuracy: 0.8303 - val_loss: 1.0041 - val_accuracy: 0.7087\n",
      "Epoch 9/20\n",
      "1563/1563 [==============================] - 137s 88ms/step - loss: 0.4322 - accuracy: 0.8469 - val_loss: 0.9865 - val_accuracy: 0.7005\n",
      "Epoch 10/20\n",
      "1563/1563 [==============================] - 136s 87ms/step - loss: 0.3857 - accuracy: 0.8623 - val_loss: 1.0163 - val_accuracy: 0.7037\n",
      "Epoch 11/20\n",
      "1563/1563 [==============================] - 137s 88ms/step - loss: 0.3423 - accuracy: 0.8790 - val_loss: 1.1240 - val_accuracy: 0.7059\n",
      "Epoch 12/20\n",
      "1563/1563 [==============================] - 137s 88ms/step - loss: 0.3049 - accuracy: 0.8917 - val_loss: 1.2036 - val_accuracy: 0.7011\n",
      "Epoch 13/20\n",
      "1563/1563 [==============================] - 138s 88ms/step - loss: 0.2784 - accuracy: 0.9007 - val_loss: 1.2756 - val_accuracy: 0.7033\n",
      "Epoch 14/20\n",
      "1563/1563 [==============================] - 137s 88ms/step - loss: 0.2496 - accuracy: 0.9116 - val_loss: 1.3653 - val_accuracy: 0.7033\n",
      "Epoch 15/20\n",
      "1563/1563 [==============================] - 137s 88ms/step - loss: 0.2322 - accuracy: 0.9176 - val_loss: 1.3849 - val_accuracy: 0.6986\n",
      "Epoch 16/20\n",
      "1563/1563 [==============================] - 137s 88ms/step - loss: 0.2219 - accuracy: 0.9198 - val_loss: 1.5745 - val_accuracy: 0.7007\n",
      "Epoch 17/20\n",
      "1563/1563 [==============================] - 137s 88ms/step - loss: 0.2078 - accuracy: 0.9271 - val_loss: 1.6658 - val_accuracy: 0.6847\n",
      "Epoch 18/20\n",
      "1563/1563 [==============================] - 136s 87ms/step - loss: 0.1870 - accuracy: 0.9348 - val_loss: 1.6286 - val_accuracy: 0.6929\n",
      "Epoch 19/20\n",
      "1563/1563 [==============================] - 137s 87ms/step - loss: 0.1863 - accuracy: 0.9344 - val_loss: 1.7644 - val_accuracy: 0.6990\n",
      "Epoch 20/20\n",
      "1563/1563 [==============================] - 137s 88ms/step - loss: 0.1739 - accuracy: 0.9399 - val_loss: 1.8032 - val_accuracy: 0.7038\n",
      "Model: \"sequential_9\"\n",
      "_________________________________________________________________\n",
      "Layer (type)                 Output Shape              Param #   \n",
      "=================================================================\n",
      "conv2d_5 (Conv2D)            (None, 32, 32, 32)        2432      \n",
      "_________________________________________________________________\n",
      "max_pooling2d_5 (MaxPooling2 (None, 16, 16, 32)        0         \n",
      "_________________________________________________________________\n",
      "conv2d_6 (Conv2D)            (None, 16, 16, 64)        51264     \n",
      "_________________________________________________________________\n",
      "max_pooling2d_6 (MaxPooling2 (None, 8, 8, 64)          0         \n",
      "_________________________________________________________________\n",
      "conv2d_7 (Conv2D)            (None, 8, 8, 64)          102464    \n",
      "_________________________________________________________________\n",
      "max_pooling2d_7 (MaxPooling2 (None, 4, 4, 64)          0         \n",
      "_________________________________________________________________\n",
      "flatten_9 (Flatten)          (None, 1024)              0         \n",
      "_________________________________________________________________\n",
      "dense_26 (Dense)             (None, 64)                65600     \n",
      "_________________________________________________________________\n",
      "dense_27 (Dense)             (None, 10)                650       \n",
      "=================================================================\n",
      "Total params: 222,410\n",
      "Trainable params: 222,410\n",
      "Non-trainable params: 0\n",
      "_________________________________________________________________\n"
     ]
    }
   ],
   "source": [
    "# Definimos la red\n",
    "model = tf.keras.models.Sequential([\n",
    "    tf.keras.layers.Conv2D(32, (5, 5), padding=\"same\", activation=\"relu\", input_shape=(32,32,3)),\n",
    "    tf.keras.layers.MaxPool2D(pool_size=(2, 2), strides=(2, 2), padding=\"same\"),\n",
    "    tf.keras.layers.Conv2D(64, (5, 5), padding=\"same\", activation=\"relu\", input_shape=(32,32,3)),\n",
    "    tf.keras.layers.MaxPool2D(pool_size=(2, 2), strides=(2, 2), padding=\"same\"),\n",
    "    tf.keras.layers.Conv2D(64, (5, 5), padding=\"same\", activation=\"relu\", input_shape=(32,32,3)),\n",
    "    tf.keras.layers.MaxPool2D(pool_size=(2, 2), strides=(2, 2), padding=\"same\"),\n",
    "    tf.keras.layers.Flatten(),\n",
    "    tf.keras.layers.Dense(64, activation=\"relu\"),\n",
    "    tf.keras.layers.Dense(10, activation=\"softmax\")\n",
    "])\n",
    "\n",
    "# Definimos el optimizador\n",
    "opt = tf.keras.optimizers.Adam(learning_rate=0.001)\n",
    "\n",
    "# Compilamos el modelo\n",
    "model.compile(optimizer=opt,\n",
    "              loss='sparse_categorical_crossentropy',\n",
    "              metrics=['accuracy'])\n",
    "\n",
    "hist = model.fit(x_train, y_train, validation_data=(x_test, y_test), epochs=20)\n",
    "\n",
    "# Visualizamos modelo\n",
    "model.summary()\n",
    "\n"
   ]
  },
  {
   "cell_type": "markdown",
   "metadata": {},
   "source": [
    "### Evaluar modelo"
   ]
  },
  {
   "cell_type": "code",
   "execution_count": 42,
   "metadata": {},
   "outputs": [
    {
     "data": {
      "image/png": "[encoded data removed]",
      "text/plain": [
       "<Figure size 4320x2880 with 2 Axes>"
      ]
     },
     "metadata": {
      "needs_background": "light"
     },
     "output_type": "display_data"
    }
   ],
   "source": [
    "fig=plt.figure(figsize=(60, 40))\n",
    "\n",
    "# error\n",
    "fig.add_subplot(10, 10, 2)\n",
    "plt.plot(hist.history['loss'], label='loss')\n",
    "plt.plot(hist.history['val_loss'], label='val_loss')\n",
    "\n",
    "# precision\n",
    "fig.add_subplot(10, 10, 1)\n",
    "plt.plot(hist.history['accuracy'], label='acc')\n",
    "plt.plot(hist.history['val_accuracy'], label='val_acc')\n",
    "plt.legend()\n",
    "\n",
    "plt.legend()\n",
    "plt.show()"
   ]
  },
  {
   "cell_type": "markdown",
   "metadata": {},
   "source": [
    "El modelo consta de 222.410 parametros para entrenar y 9 capas: \n",
    "\n",
    "La primera capa es una convolucional con un valor o tamaño de salida de 32x32x32. Los parametros que va a tener que aprender en esta capa son de 2432 y con 32 kernels a aplicar por cada capa.\n",
    "La segunda capa es de pooling, exactamente max pooling. Al tener tanto un pool size y un stride de 2x2, reduciremos a la mitad el tamaño de nuestra imagen.\n",
    "La tercera capa es una convolucional con un valor de salida de 16x16x32. Los parametros son de 51264 y con 64 kernels.\n",
    "La cuarta capa es de max pooling con un size y stride de 2x2.\n",
    "La quinta capa es convolucional con 102464 parametros.\n",
    "La sexta es otra de max pooling de 2x2.\n",
    "La septima capa nos ha permitido aplanar 1024 paramentros.\n",
    "Finalmente, tanto la octava como la novena capa son de tipo densa de activación con 64 y 10 neuronas respectivamente.\n",
    "\n",
    "Los resultados son bastante esperanzadores con solo un 94% y en el conjunto de test o validación son de un 70%"
   ]
  },
  {
   "cell_type": "markdown",
   "metadata": {},
   "source": [
    "<a id=\"section4\"></a>\n",
    "# <font color=\"#004D7F\" size=5>Parte Opcional</font>\n",
    "Esta parte es totalmente opcional, se trata de realizar vuestra propia red neuronal con lo aprendido en clase para intentar mejorar lo aprendido en las anteriores redes o al menos acercarse a la red que mejor ha funcionado. El objetivo es que penséis en una posible red que creáis que puede funcionar y la pongáis en práctica para ver como funciona y expliquéis los resultados conseguido.\n",
    "\n",
    "También os animos a que utilicéis otro tipo de capas que no hemos visto en clase (aquí tenéis todas: https://www.tensorflow.org/api_docs/python/tf/keras/layers). Y en especial os recomiendo la capa de tipo `Dropout` (podéis saber más sobre esta capa aquí y como utilizarla aquí: https://www.tensorflow.org/api_docs/python/tf/keras/layers/Dropout).\n",
    "\n",
    "A grandes rasgos, la capa `Dropout` hace que determinadas neuronas no se activen/usen durante el proceso de entrenamiento en momentos determinados. De esta forma incitamos a que las neuronas que no aprenden tanto, lo hagan. De esta forma tenemos un entrenamiento más completo distribuido por todas las neuronas. Esta capa ayuda a evitar el problema de sobreajuste, es decir, que el entrenamiento sea demasiado ajustado al conjunto de *train* pero no sea tan óptimo en el conjunto de test.\n",
    "\n",
    "La capa `Dropout` se suele utilizar después de las capas de *Pooling*, y el valor que se suele dar es entre 0.1 y 0.5, que es el porcentaje de neuronas de la capa anterior que de forma aleatoria no se activan para ser entrendada. Por ejemplo, una capa `Dropout` tiene este aspecto:\n",
    "\n",
    "```\n",
    "...\n",
    "tf.keras.layers.Dropout(0.5)\n",
    "...\n",
    "```\n",
    "\n",
    "Podés saber más sobre este tipo de capa en este artículo: https://medium.com/@amarbudhiraja/https-medium-com-amarbudhiraja-learning-less-to-learn-better-dropout-in-deep-machine-learning-74334da4bfc5"
   ]
  },
  {
   "cell_type": "code",
   "execution_count": 46,
   "metadata": {},
   "outputs": [
    {
     "name": "stdout",
     "output_type": "stream",
     "text": [
      "Epoch 1/20\n",
      "1563/1563 [==============================] - 146s 93ms/step - loss: 1.6542 - accuracy: 0.3922 - val_loss: 1.3584 - val_accuracy: 0.5254\n",
      "Epoch 2/20\n",
      "1563/1563 [==============================] - 148s 94ms/step - loss: 1.3129 - accuracy: 0.5270 - val_loss: 1.1907 - val_accuracy: 0.5881\n",
      "Epoch 3/20\n",
      "1563/1563 [==============================] - 139s 89ms/step - loss: 1.1924 - accuracy: 0.5753 - val_loss: 1.1873 - val_accuracy: 0.5791\n",
      "Epoch 4/20\n",
      "1563/1563 [==============================] - 148s 95ms/step - loss: 1.1197 - accuracy: 0.6015 - val_loss: 1.1593 - val_accuracy: 0.5952\n",
      "Epoch 5/20\n",
      "1563/1563 [==============================] - 136s 87ms/step - loss: 1.0651 - accuracy: 0.6207 - val_loss: 1.0584 - val_accuracy: 0.6315\n",
      "Epoch 6/20\n",
      "1563/1563 [==============================] - 133s 85ms/step - loss: 1.0297 - accuracy: 0.6371 - val_loss: 1.0119 - val_accuracy: 0.6497\n",
      "Epoch 7/20\n",
      "1563/1563 [==============================] - 134s 86ms/step - loss: 0.9970 - accuracy: 0.6505 - val_loss: 0.9605 - val_accuracy: 0.6617\n",
      "Epoch 8/20\n",
      "1563/1563 [==============================] - 133s 85ms/step - loss: 0.9644 - accuracy: 0.6592 - val_loss: 0.9254 - val_accuracy: 0.6778\n",
      "Epoch 9/20\n",
      "1563/1563 [==============================] - 134s 86ms/step - loss: 0.9411 - accuracy: 0.6671 - val_loss: 0.9199 - val_accuracy: 0.6829\n",
      "Epoch 10/20\n",
      "1563/1563 [==============================] - 135s 87ms/step - loss: 0.9176 - accuracy: 0.6754 - val_loss: 0.9186 - val_accuracy: 0.6826\n",
      "Epoch 11/20\n",
      "1563/1563 [==============================] - 138s 88ms/step - loss: 0.8959 - accuracy: 0.6841 - val_loss: 0.8765 - val_accuracy: 0.6951\n",
      "Epoch 12/20\n",
      "1563/1563 [==============================] - 138s 88ms/step - loss: 0.8816 - accuracy: 0.6900 - val_loss: 0.9158 - val_accuracy: 0.6795\n",
      "Epoch 13/20\n",
      "1563/1563 [==============================] - 143s 91ms/step - loss: 0.8618 - accuracy: 0.6933 - val_loss: 1.0247 - val_accuracy: 0.6533\n",
      "Epoch 14/20\n",
      "1563/1563 [==============================] - 136s 87ms/step - loss: 0.8545 - accuracy: 0.6976 - val_loss: 1.0225 - val_accuracy: 0.6574\n",
      "Epoch 15/20\n",
      "1563/1563 [==============================] - 135s 86ms/step - loss: 0.8370 - accuracy: 0.7059 - val_loss: 0.8019 - val_accuracy: 0.7205\n",
      "Epoch 16/20\n",
      "1563/1563 [==============================] - 137s 88ms/step - loss: 0.8335 - accuracy: 0.7069 - val_loss: 0.8877 - val_accuracy: 0.6932\n",
      "Epoch 17/20\n",
      "1563/1563 [==============================] - 138s 89ms/step - loss: 0.8199 - accuracy: 0.7103 - val_loss: 0.8217 - val_accuracy: 0.7147\n",
      "Epoch 18/20\n",
      "1563/1563 [==============================] - 137s 87ms/step - loss: 0.8065 - accuracy: 0.7161 - val_loss: 0.8509 - val_accuracy: 0.7059\n",
      "Epoch 19/20\n",
      "1563/1563 [==============================] - 136s 87ms/step - loss: 0.8020 - accuracy: 0.7158 - val_loss: 0.8348 - val_accuracy: 0.7124\n",
      "Epoch 20/20\n",
      "1563/1563 [==============================] - 137s 87ms/step - loss: 0.7886 - accuracy: 0.7236 - val_loss: 0.8016 - val_accuracy: 0.7241\n",
      "Model: \"sequential_12\"\n",
      "_________________________________________________________________\n",
      "Layer (type)                 Output Shape              Param #   \n",
      "=================================================================\n",
      "conv2d_14 (Conv2D)           (None, 32, 32, 32)        2432      \n",
      "_________________________________________________________________\n",
      "max_pooling2d_14 (MaxPooling (None, 16, 16, 32)        0         \n",
      "_________________________________________________________________\n",
      "dropout_5 (Dropout)          (None, 16, 16, 32)        0         \n",
      "_________________________________________________________________\n",
      "conv2d_15 (Conv2D)           (None, 16, 16, 64)        51264     \n",
      "_________________________________________________________________\n",
      "max_pooling2d_15 (MaxPooling (None, 8, 8, 64)          0         \n",
      "_________________________________________________________________\n",
      "dropout_6 (Dropout)          (None, 8, 8, 64)          0         \n",
      "_________________________________________________________________\n",
      "conv2d_16 (Conv2D)           (None, 8, 8, 64)          102464    \n",
      "_________________________________________________________________\n",
      "max_pooling2d_16 (MaxPooling (None, 4, 4, 64)          0         \n",
      "_________________________________________________________________\n",
      "flatten_12 (Flatten)         (None, 1024)              0         \n",
      "_________________________________________________________________\n",
      "dense_32 (Dense)             (None, 64)                65600     \n",
      "_________________________________________________________________\n",
      "dense_33 (Dense)             (None, 10)                650       \n",
      "=================================================================\n",
      "Total params: 222,410\n",
      "Trainable params: 222,410\n",
      "Non-trainable params: 0\n",
      "_________________________________________________________________\n"
     ]
    }
   ],
   "source": [
    "# Definimos la red\n",
    "model = tf.keras.models.Sequential([\n",
    "    tf.keras.layers.Conv2D(32, (5, 5), padding=\"same\", activation=\"relu\", input_shape=(32,32,3)),\n",
    "    tf.keras.layers.MaxPool2D(pool_size=(2, 2), strides=(2, 2), padding=\"same\"),\n",
    "    tf.keras.layers.Dropout(0.5),\n",
    "    tf.keras.layers.Conv2D(64, (5, 5), padding=\"same\", activation=\"relu\", input_shape=(32,32,3)),\n",
    "    tf.keras.layers.MaxPool2D(pool_size=(2, 2), strides=(2, 2), padding=\"same\"),\n",
    "    tf.keras.layers.Dropout(0.5),\n",
    "    tf.keras.layers.Conv2D(64, (5, 5), padding=\"same\", activation=\"relu\", input_shape=(32,32,3)),\n",
    "    tf.keras.layers.MaxPool2D(pool_size=(2, 2), strides=(2, 2), padding=\"same\"),\n",
    "    tf.keras.layers.Flatten(),\n",
    "    tf.keras.layers.Dense(64, activation=\"relu\"),\n",
    "    tf.keras.layers.Dense(10, activation=\"softmax\")\n",
    "])\n",
    "\n",
    "# Definimos el optimizador\n",
    "opt = tf.keras.optimizers.Adam(learning_rate=0.001)\n",
    "\n",
    "# Compilamos el modelo\n",
    "model.compile(optimizer=opt,\n",
    "              loss='sparse_categorical_crossentropy',\n",
    "              metrics=['accuracy'])\n",
    "\n",
    "hist = model.fit(x_train, y_train, validation_data=(x_test, y_test), epochs=20)\n",
    "\n",
    "# Visualizamos modelo\n",
    "model.summary()"
   ]
  },
  {
   "cell_type": "markdown",
   "metadata": {},
   "source": [
    "### Evaluar modelo"
   ]
  },
  {
   "cell_type": "code",
   "execution_count": 47,
   "metadata": {},
   "outputs": [
    {
     "data": {
      "image/png": "[encoded data removed]",
      "text/plain": [
       "<Figure size 4320x2880 with 2 Axes>"
      ]
     },
     "metadata": {
      "needs_background": "light"
     },
     "output_type": "display_data"
    }
   ],
   "source": [
    "fig=plt.figure(figsize=(60, 40))\n",
    "\n",
    "# error\n",
    "fig.add_subplot(10, 10, 2)\n",
    "plt.plot(hist.history['loss'], label='loss')\n",
    "plt.plot(hist.history['val_loss'], label='val_loss')\n",
    "\n",
    "# precision\n",
    "fig.add_subplot(10, 10, 1)\n",
    "plt.plot(hist.history['accuracy'], label='acc')\n",
    "plt.plot(hist.history['val_accuracy'], label='val_acc')\n",
    "plt.legend()\n",
    "\n",
    "plt.legend()\n",
    "plt.show()"
   ]
  },
  {
   "cell_type": "markdown",
   "metadata": {},
   "source": [
    "El modelo consta de 222.410 parametros para entrenar y 11 capas: \n",
    "\n",
    "La primera capa es una convolucional con un valor o tamaño de salida de 32x32x32. Los parametros que va a tener que aprender en esta capa son de 2432 y con 32 kernels a aplicar por cada capa.\n",
    "La segunda capa es de pooling, exactamente max pooling. Al tener tanto un pool size y un stride de 2x2, reduciremos a la mitad el tamaño de nuestra imagen.\n",
    "La tercera capa es un dropout. Esta técnica difiere de las vistas hasta el momento. El procedimiento es sencillo: por cada nueva entrada a la red en fase de entrenamiento, se desactivará aleatoriamente un porcentaje de las neuronas en cada capa oculta. Lo que se consigue con esto es que ninguna neurona memorice parte de la entrada; que es precisamente lo que sucede cuando tenemos sobreajuste.\n",
    "La cuarta capa es una convolucional con un valor de salida de 16x16x64. Los parametros son de 51264 y con 64 kernels.\n",
    "La quinta capa es de max pooling con un size y stride de 2x2.\n",
    "La quinta capa es convolucional con 102464 parametros.\n",
    "La sexta es otra de dropout.\n",
    "Seguidamente tenemos una capa convolucional, maxpooling, flatten y 2 dense.\n",
    "\n",
    "Los resultados no son lo buenos que se pueda esperar con un 72% y en el conjunto de test o validación también son de un 72%"
   ]
  },
  {
   "cell_type": "markdown",
   "metadata": {},
   "source": [
    "<a id=\"section5\"></a>\n",
    "# <font color=\"#004D7F\" size=5>Conclusión</font>\n",
    "Una vez realizado todos los experimentos anteriores, ¿qué modelo elegirías para desplegar en producción? ¿Por qué? \n",
    "\n",
    "Explica en breves palabras qué modelo eligirías para desplegar en producción y porqué. Compara cada experimento y extráis tus propias conclusiones."
   ]
  },
  {
   "cell_type": "markdown",
   "metadata": {},
   "source": [
    "Después de haber realizado los 4 experimentos para ver cual de ellos llevaría a producción, cada uno con diferentes capas tanto de tipo como de numero, me decantaria por el modelo del experimento 4.\n",
    "El resultado del valor de acierto es el más elevado de los 4 experimentos: 94%. Seguidamente viene el tercero con un 60% mientras que los dos ultimos se alejan bastante con un 47% y un 10%.\n",
    "En cuanto a la red neuronal creada por mi, no ha resultado la mejor de las 4 pero si que es la que más se ha acercado con un 72% de acierto."
   ]
  },
  {
   "cell_type": "markdown",
   "metadata": {},
   "source": [
    "<div style=\"text-align: center; font-size: 24px;\">\n",
    "    <img src=\"images/good-job.jpeg\">\n",
    "    <br>\n",
    "    ¡Si has llegado hasta aquí deberías estar super orgullos@!\n",
    "    <br><br>\n",
    "    Ya puedes relajar tus neuronas, les has dado mucho trabajo\n",
    "</div>"
   ]
  }
 ],
 "metadata": {
  "kernelspec": {
   "display_name": "Python 3",
   "language": "python",
   "name": "python3"
  },
  "language_info": {
   "codemirror_mode": {
    "name": "ipython",
    "version": 3
   },
   "file_extension": ".py",
   "mimetype": "text/x-python",
   "name": "python",
   "nbconvert_exporter": "python",
   "pygments_lexer": "ipython3",
   "version": "3.7.9"
  }
 },
 "nbformat": 4,
 "nbformat_minor": 4
}
